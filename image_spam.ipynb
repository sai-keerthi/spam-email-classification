{
  "cells": [
    {
      "cell_type": "code",
      "execution_count": null,
      "id": "f7644bbc",
      "metadata": {
        "colab": {
          "base_uri": "https://localhost:8080/"
        },
        "id": "f7644bbc",
        "outputId": "4d40977d-2acb-44e9-ac3c-abc1556fef6c"
      },
      "outputs": [
        {
          "output_type": "stream",
          "name": "stdout",
          "text": [
            "Reading package lists... Done\n",
            "Building dependency tree       \n",
            "Reading state information... Done\n",
            "tesseract-ocr is already the newest version (4.00~git2288-10f4998a-2).\n",
            "0 upgraded, 0 newly installed, 0 to remove and 37 not upgraded.\n",
            "Requirement already satisfied: pytesseract in /usr/local/lib/python3.7/dist-packages (0.3.8)\n",
            "Requirement already satisfied: Pillow in /usr/local/lib/python3.7/dist-packages (from pytesseract) (7.1.2)\n"
          ]
        }
      ],
      "source": [
        "!sudo apt install tesseract-ocr\n",
        "\n",
        "!pip install pytesseract\n",
        "from PIL import Image\n",
        "from pytesseract import pytesseract"
      ]
    },
    {
      "cell_type": "code",
      "source": [
        "import joblib\n",
        "vectorizer=joblib.load(open('/content/vectorizer.sav','rb'))\n",
        "loaded_model = joblib.load(open(\"/content/model.sav\",'rb'))"
      ],
      "metadata": {
        "id": "D68bjzE9U9vn"
      },
      "id": "D68bjzE9U9vn",
      "execution_count": null,
      "outputs": []
    },
    {
      "cell_type": "code",
      "source": [
        "def predict(img_path):\n",
        "  text = pytesseract.image_to_string(Image.open(img_path))\n",
        "  text=vectorizer.transform([text])\n",
        "  y=loaded_model.predict(text)\n",
        "  if y==1:\n",
        "    print('ham')\n",
        "  else:\n",
        "    print('spam')"
      ],
      "metadata": {
        "id": "WwccU5wJjPZI"
      },
      "id": "WwccU5wJjPZI",
      "execution_count": null,
      "outputs": []
    },
    {
      "cell_type": "code",
      "execution_count": null,
      "id": "d6047898",
      "metadata": {
        "id": "d6047898"
      },
      "outputs": [],
      "source": [
        "\n",
        "img2='/content/img2.gif'\n",
        "img3='/content/img3.jpg'"
      ]
    },
    {
      "cell_type": "code",
      "source": [
        "\n",
        "predict(img2)\n",
        "predict(img3)"
      ],
      "metadata": {
        "colab": {
          "base_uri": "https://localhost:8080/"
        },
        "id": "XHU0REcB3Mgn",
        "outputId": "2b55155b-ee93-40b9-e032-b2f97cb4a34d"
      },
      "id": "XHU0REcB3Mgn",
      "execution_count": null,
      "outputs": [
        {
          "output_type": "stream",
          "name": "stdout",
          "text": [
            "spam\n",
            "spam\n"
          ]
        }
      ]
    },
    {
      "cell_type": "code",
      "source": [
        "img4=\"/content/img4(ham).png\"\n",
        "predict(img4)\n",
        "img5=\"/content/img5(ham).png\"\n",
        "predict(img5)"
      ],
      "metadata": {
        "colab": {
          "base_uri": "https://localhost:8080/"
        },
        "id": "2ws0mmHGT6g5",
        "outputId": "4afb4710-738d-4269-bcc0-5439ed37a837"
      },
      "id": "2ws0mmHGT6g5",
      "execution_count": null,
      "outputs": [
        {
          "output_type": "stream",
          "name": "stdout",
          "text": [
            "ham\n",
            "ham\n"
          ]
        }
      ]
    }
  ],
  "metadata": {
    "kernelspec": {
      "display_name": "Python 3",
      "language": "python",
      "name": "python3"
    },
    "language_info": {
      "codemirror_mode": {
        "name": "ipython",
        "version": 3
      },
      "file_extension": ".py",
      "mimetype": "text/x-python",
      "name": "python",
      "nbconvert_exporter": "python",
      "pygments_lexer": "ipython3",
      "version": "3.9.1"
    },
    "colab": {
      "name": "image spam.ipynb",
      "provenance": [],
      "collapsed_sections": []
    }
  },
  "nbformat": 4,
  "nbformat_minor": 5
}